{
 "cells": [
  {
   "cell_type": "markdown",
   "metadata": {},
   "source": [
    "# STRUKTUR DATA"
   ]
  },
  {
   "cell_type": "markdown",
   "metadata": {},
   "source": [
    "### LINK LIST"
   ]
  },
  {
   "cell_type": "code",
   "execution_count": 8,
   "metadata": {},
   "outputs": [
    {
     "name": "stdout",
     "output_type": "stream",
     "text": [
      "['first', 'second', 'third']\n",
      "['first', 'second', 'third', 'makan', 'four', 'five']\n",
      "['first', 'second', 'third', 'four', 'five']\n"
     ]
    }
   ],
   "source": [
    "link_list = ['first', 'second', 'third']\n",
    "print(link_list)\n",
    "\n",
    "link_list.append('four')\n",
    "link_list.append('five')\n",
    "link_list.insert(3, 'makan')\n",
    "print(link_list)\n",
    "\n",
    "link_list.remove('makan')\n",
    "print(link_list)"
   ]
  },
  {
   "cell_type": "markdown",
   "metadata": {},
   "source": [
    "### STACK"
   ]
  },
  {
   "cell_type": "code",
   "execution_count": 1,
   "metadata": {},
   "outputs": [
    {
     "name": "stdout",
     "output_type": "stream",
     "text": [
      "['first', 'second', 'thrid']\n",
      "['first', 'second', 'thrid', 'fourth', 'fifth']\n",
      "fifth\n",
      "['first', 'second', 'thrid', 'fourth']\n"
     ]
    }
   ],
   "source": [
    "stack = ['first', 'second', 'thrid']\n",
    "\n",
    "print(stack)\n",
    "\n",
    "# menambahkan element\n",
    "stack.append('fourth')\n",
    "stack.append('fifth')\n",
    "print(stack)\n",
    "\n",
    "# mengambil data paling atas\n",
    "print(stack[-1])\n",
    "\n",
    "# menghapus stack\n",
    "stack.pop()\n",
    "print(stack)"
   ]
  },
  {
   "cell_type": "markdown",
   "metadata": {},
   "source": [
    "### QUEUE"
   ]
  },
  {
   "cell_type": "code",
   "execution_count": 9,
   "metadata": {},
   "outputs": [
    {
     "name": "stdout",
     "output_type": "stream",
     "text": [
      "[1, 2, 3, 4, 9]\n",
      "1\n",
      "9\n",
      "5\n",
      "[2, 3, 4, 9]\n",
      "[2, 3, 4]\n"
     ]
    }
   ],
   "source": [
    "queue = [1,2,3]\n",
    "\n",
    "# menambah data ke queue\n",
    "queue.append(4)\n",
    "queue.append(9)\n",
    "print(queue)\n",
    "\n",
    "# menampilkan data yang pertaman masuk atau head\n",
    "print(queue[0])\n",
    "\n",
    "# menampilkan data yang terakhir masuk\n",
    "print(queue[-1])\n",
    "print(len(queue)) #? menampilkan panjang queue\n",
    "\n",
    "queue.remove(queue[0]) #? hapus dari depan\n",
    "print(queue)\n",
    "\n",
    "queue.pop() #? hapus dari belakang\n",
    "print(queue)\n",
    "\n",
    "# perbedaan fungsi remove dan pop\n",
    "# kalo remove harus pakai objek dan indeks sedangkan\n",
    "# kalo pop langsung kita masukin angka indeks tidak objek \n"
   ]
  },
  {
   "cell_type": "markdown",
   "metadata": {},
   "source": [
    "### Tree"
   ]
  },
  {
   "cell_type": "code",
   "execution_count": 5,
   "metadata": {},
   "outputs": [
    {
     "name": "stdout",
     "output_type": "stream",
     "text": [
      "pertama\n",
      "kedua\n",
      "ketiga\n"
     ]
    }
   ],
   "source": [
    "class node:\n",
    "  def __init__(self, ele):\n",
    "    self.ele = ele\n",
    "    self.left = None\n",
    "    self.right = None\n",
    "\n",
    "def preorder(self):\n",
    "  if self:\n",
    "    print(self.ele)\n",
    "    preorder(self.left)\n",
    "    preorder(self.right)\n",
    "\n",
    "n = node('pertama')\n",
    "n.left = node('kedua')\n",
    "n.right = node('ketiga')\n",
    "preorder(n)"
   ]
  }
 ],
 "metadata": {
  "kernelspec": {
   "display_name": "Python 3",
   "language": "python",
   "name": "python3"
  },
  "language_info": {
   "codemirror_mode": {
    "name": "ipython",
    "version": 3
   },
   "file_extension": ".py",
   "mimetype": "text/x-python",
   "name": "python",
   "nbconvert_exporter": "python",
   "pygments_lexer": "ipython3",
   "version": "3.11.0"
  }
 },
 "nbformat": 4,
 "nbformat_minor": 2
}
